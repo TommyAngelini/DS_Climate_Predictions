{
 "cells": [
  {
   "cell_type": "markdown",
   "id": "6c524245",
   "metadata": {},
   "source": [
    "# Average Temperature Predictions Based on Proposed Greenhouse Emissions in The Next Century\n",
    "\n",
    "**Goal**: This project will use data on global and country-specific temperatures in the past, as well as greenhouse emissions, to provide predictions on global and country-specific temperatures in the future according to the proposed reductions in greenhouse emissions that various countries and regions have put forward at relevant climate conferences. "
   ]
  },
  {
   "cell_type": "markdown",
   "id": "1102b16f",
   "metadata": {},
   "source": [
    "# Data\n",
    "\n",
    "**Global Land Temperatures By City**: https://www.kaggle.com/berkeleyearth/climate-change-earth-surface-temperature-data <br>\n",
    "**Greenhouse Gas Inventory Data**: https://www.kaggle.com/unitednations/international-greenhouse-gas-emissions <br>\n",
    "**Climate Watch Pathways**: https://datasets.wri.org/dataset/cait-emissions-projections <br>"
   ]
  },
  {
   "cell_type": "markdown",
   "id": "3da98df4",
   "metadata": {},
   "source": [
    "# Importing Libraries"
   ]
  },
  {
   "cell_type": "code",
   "execution_count": 64,
   "id": "6a424189",
   "metadata": {},
   "outputs": [],
   "source": [
    "import numpy as np \n",
    "import pandas as pd\n",
    "import seaborn as sns\n",
    "import matplotlib.pyplot as plt\n",
    "sns.set_theme(style=\"ticks\", color_codes=True)"
   ]
  },
  {
   "cell_type": "markdown",
   "id": "c63f8955",
   "metadata": {},
   "source": [
    "# Loading Historical Global Land Temperatures Data"
   ]
  },
  {
   "cell_type": "code",
   "execution_count": 4,
   "id": "91309f69",
   "metadata": {
    "scrolled": true
   },
   "outputs": [
    {
     "data": {
      "text/html": [
       "<div>\n",
       "<style scoped>\n",
       "    .dataframe tbody tr th:only-of-type {\n",
       "        vertical-align: middle;\n",
       "    }\n",
       "\n",
       "    .dataframe tbody tr th {\n",
       "        vertical-align: top;\n",
       "    }\n",
       "\n",
       "    .dataframe thead th {\n",
       "        text-align: right;\n",
       "    }\n",
       "</style>\n",
       "<table border=\"1\" class=\"dataframe\">\n",
       "  <thead>\n",
       "    <tr style=\"text-align: right;\">\n",
       "      <th></th>\n",
       "      <th>dt</th>\n",
       "      <th>AverageTemperature</th>\n",
       "      <th>AverageTemperatureUncertainty</th>\n",
       "      <th>Country</th>\n",
       "    </tr>\n",
       "  </thead>\n",
       "  <tbody>\n",
       "    <tr>\n",
       "      <th>0</th>\n",
       "      <td>1743-11-01</td>\n",
       "      <td>4.384</td>\n",
       "      <td>2.294</td>\n",
       "      <td>Åland</td>\n",
       "    </tr>\n",
       "    <tr>\n",
       "      <th>1</th>\n",
       "      <td>1743-12-01</td>\n",
       "      <td>NaN</td>\n",
       "      <td>NaN</td>\n",
       "      <td>Åland</td>\n",
       "    </tr>\n",
       "    <tr>\n",
       "      <th>2</th>\n",
       "      <td>1744-01-01</td>\n",
       "      <td>NaN</td>\n",
       "      <td>NaN</td>\n",
       "      <td>Åland</td>\n",
       "    </tr>\n",
       "    <tr>\n",
       "      <th>3</th>\n",
       "      <td>1744-02-01</td>\n",
       "      <td>NaN</td>\n",
       "      <td>NaN</td>\n",
       "      <td>Åland</td>\n",
       "    </tr>\n",
       "    <tr>\n",
       "      <th>4</th>\n",
       "      <td>1744-03-01</td>\n",
       "      <td>NaN</td>\n",
       "      <td>NaN</td>\n",
       "      <td>Åland</td>\n",
       "    </tr>\n",
       "    <tr>\n",
       "      <th>5</th>\n",
       "      <td>1744-04-01</td>\n",
       "      <td>1.530</td>\n",
       "      <td>4.680</td>\n",
       "      <td>Åland</td>\n",
       "    </tr>\n",
       "    <tr>\n",
       "      <th>6</th>\n",
       "      <td>1744-05-01</td>\n",
       "      <td>6.702</td>\n",
       "      <td>1.789</td>\n",
       "      <td>Åland</td>\n",
       "    </tr>\n",
       "    <tr>\n",
       "      <th>7</th>\n",
       "      <td>1744-06-01</td>\n",
       "      <td>11.609</td>\n",
       "      <td>1.577</td>\n",
       "      <td>Åland</td>\n",
       "    </tr>\n",
       "    <tr>\n",
       "      <th>8</th>\n",
       "      <td>1744-07-01</td>\n",
       "      <td>15.342</td>\n",
       "      <td>1.410</td>\n",
       "      <td>Åland</td>\n",
       "    </tr>\n",
       "    <tr>\n",
       "      <th>9</th>\n",
       "      <td>1744-08-01</td>\n",
       "      <td>NaN</td>\n",
       "      <td>NaN</td>\n",
       "      <td>Åland</td>\n",
       "    </tr>\n",
       "  </tbody>\n",
       "</table>\n",
       "</div>"
      ],
      "text/plain": [
       "           dt  AverageTemperature  AverageTemperatureUncertainty Country\n",
       "0  1743-11-01               4.384                          2.294   Åland\n",
       "1  1743-12-01                 NaN                            NaN   Åland\n",
       "2  1744-01-01                 NaN                            NaN   Åland\n",
       "3  1744-02-01                 NaN                            NaN   Åland\n",
       "4  1744-03-01                 NaN                            NaN   Åland\n",
       "5  1744-04-01               1.530                          4.680   Åland\n",
       "6  1744-05-01               6.702                          1.789   Åland\n",
       "7  1744-06-01              11.609                          1.577   Åland\n",
       "8  1744-07-01              15.342                          1.410   Åland\n",
       "9  1744-08-01                 NaN                            NaN   Åland"
      ]
     },
     "execution_count": 4,
     "metadata": {},
     "output_type": "execute_result"
    }
   ],
   "source": [
    "historicalTemps = pd.read_csv(\"EarthSurfaceTempData/GlobalLandTemperaturesByCountry.csv\")\n",
    "historicalTemps.head(10)"
   ]
  },
  {
   "cell_type": "markdown",
   "id": "40bf6492",
   "metadata": {},
   "source": [
    "# Cleaning up Historical Global Land Temperatures Data\n",
    "Here I clean the dataframe to remove NaN values, and to take average temperature data for each country annually, instead of keeping the monthly data. This is because the GHG emission data is yearly and thus I want to match the time series correctly."
   ]
  },
  {
   "cell_type": "code",
   "execution_count": 55,
   "id": "c104f54f",
   "metadata": {},
   "outputs": [
    {
     "data": {
      "text/html": [
       "<div>\n",
       "<style scoped>\n",
       "    .dataframe tbody tr th:only-of-type {\n",
       "        vertical-align: middle;\n",
       "    }\n",
       "\n",
       "    .dataframe tbody tr th {\n",
       "        vertical-align: top;\n",
       "    }\n",
       "\n",
       "    .dataframe thead th {\n",
       "        text-align: right;\n",
       "    }\n",
       "</style>\n",
       "<table border=\"1\" class=\"dataframe\">\n",
       "  <thead>\n",
       "    <tr style=\"text-align: right;\">\n",
       "      <th></th>\n",
       "      <th>year</th>\n",
       "      <th>Country</th>\n",
       "      <th>AverageTemperature</th>\n",
       "      <th>AverageTemperatureUncertainty</th>\n",
       "    </tr>\n",
       "  </thead>\n",
       "  <tbody>\n",
       "    <tr>\n",
       "      <th>0</th>\n",
       "      <td>1990</td>\n",
       "      <td>Afghanistan</td>\n",
       "      <td>14.993333</td>\n",
       "      <td>0.362417</td>\n",
       "    </tr>\n",
       "    <tr>\n",
       "      <th>1</th>\n",
       "      <td>1990</td>\n",
       "      <td>Africa</td>\n",
       "      <td>24.703750</td>\n",
       "      <td>0.185583</td>\n",
       "    </tr>\n",
       "    <tr>\n",
       "      <th>2</th>\n",
       "      <td>1990</td>\n",
       "      <td>Albania</td>\n",
       "      <td>13.468667</td>\n",
       "      <td>0.338833</td>\n",
       "    </tr>\n",
       "    <tr>\n",
       "      <th>3</th>\n",
       "      <td>1990</td>\n",
       "      <td>Algeria</td>\n",
       "      <td>24.014417</td>\n",
       "      <td>0.397917</td>\n",
       "    </tr>\n",
       "    <tr>\n",
       "      <th>4</th>\n",
       "      <td>1990</td>\n",
       "      <td>American Samoa</td>\n",
       "      <td>27.156250</td>\n",
       "      <td>0.300000</td>\n",
       "    </tr>\n",
       "    <tr>\n",
       "      <th>...</th>\n",
       "      <td>...</td>\n",
       "      <td>...</td>\n",
       "      <td>...</td>\n",
       "      <td>...</td>\n",
       "    </tr>\n",
       "    <tr>\n",
       "      <th>5803</th>\n",
       "      <td>2013</td>\n",
       "      <td>Western Sahara</td>\n",
       "      <td>23.744250</td>\n",
       "      <td>1.133125</td>\n",
       "    </tr>\n",
       "    <tr>\n",
       "      <th>5804</th>\n",
       "      <td>2013</td>\n",
       "      <td>Yemen</td>\n",
       "      <td>28.129750</td>\n",
       "      <td>1.335000</td>\n",
       "    </tr>\n",
       "    <tr>\n",
       "      <th>5805</th>\n",
       "      <td>2013</td>\n",
       "      <td>Zambia</td>\n",
       "      <td>21.196000</td>\n",
       "      <td>0.825125</td>\n",
       "    </tr>\n",
       "    <tr>\n",
       "      <th>5806</th>\n",
       "      <td>2013</td>\n",
       "      <td>Zimbabwe</td>\n",
       "      <td>20.710750</td>\n",
       "      <td>0.778500</td>\n",
       "    </tr>\n",
       "    <tr>\n",
       "      <th>5807</th>\n",
       "      <td>2013</td>\n",
       "      <td>Åland</td>\n",
       "      <td>6.229750</td>\n",
       "      <td>0.536250</td>\n",
       "    </tr>\n",
       "  </tbody>\n",
       "</table>\n",
       "<p>5808 rows × 4 columns</p>\n",
       "</div>"
      ],
      "text/plain": [
       "      year         Country  AverageTemperature  AverageTemperatureUncertainty\n",
       "0     1990     Afghanistan           14.993333                       0.362417\n",
       "1     1990          Africa           24.703750                       0.185583\n",
       "2     1990         Albania           13.468667                       0.338833\n",
       "3     1990         Algeria           24.014417                       0.397917\n",
       "4     1990  American Samoa           27.156250                       0.300000\n",
       "...    ...             ...                 ...                            ...\n",
       "5803  2013  Western Sahara           23.744250                       1.133125\n",
       "5804  2013           Yemen           28.129750                       1.335000\n",
       "5805  2013          Zambia           21.196000                       0.825125\n",
       "5806  2013        Zimbabwe           20.710750                       0.778500\n",
       "5807  2013           Åland            6.229750                       0.536250\n",
       "\n",
       "[5808 rows x 4 columns]"
      ]
     },
     "execution_count": 55,
     "metadata": {},
     "output_type": "execute_result"
    }
   ],
   "source": [
    "# separate dt column to have years \n",
    "historicalTemps['year'] = pd.DatetimeIndex(historicalTemps['dt']).year\n",
    "\n",
    "# remove NaNs\n",
    "historicalTemps = historicalTemps.dropna()\n",
    "\n",
    "# snip all data from before 1990\n",
    "historicalTemps = historicalTemps[historicalTemps['year'] > 1989]\n",
    "\n",
    "# average yearly data to have one entry per year\n",
    "yearlyAvgs = historicalTemps.groupby(\n",
    "    [\"year\", \"Country\"])[\"AverageTemperature\"].mean().reset_index()\n",
    "\n",
    "yearlyAvgsUnc = historicalTemps.groupby(\n",
    "    [\"year\", \"Country\"])[\"AverageTemperatureUncertainty\"].mean().reset_index()\n",
    "\n",
    "# combine uncertainty and temperature values together\n",
    "yearlyAvgs['AverageTemperatureUncertainty'] = yearlyAvgsUnc['AverageTemperatureUncertainty']\n",
    "\n",
    "yearlyAvgs"
   ]
  },
  {
   "cell_type": "markdown",
   "id": "630d6604",
   "metadata": {},
   "source": [
    "# Loading Historical Global GHGs Emission Data"
   ]
  },
  {
   "cell_type": "code",
   "execution_count": 56,
   "id": "70b9d01c",
   "metadata": {
    "scrolled": false
   },
   "outputs": [
    {
     "data": {
      "text/html": [
       "<div>\n",
       "<style scoped>\n",
       "    .dataframe tbody tr th:only-of-type {\n",
       "        vertical-align: middle;\n",
       "    }\n",
       "\n",
       "    .dataframe tbody tr th {\n",
       "        vertical-align: top;\n",
       "    }\n",
       "\n",
       "    .dataframe thead th {\n",
       "        text-align: right;\n",
       "    }\n",
       "</style>\n",
       "<table border=\"1\" class=\"dataframe\">\n",
       "  <thead>\n",
       "    <tr style=\"text-align: right;\">\n",
       "      <th></th>\n",
       "      <th>country_or_area</th>\n",
       "      <th>year</th>\n",
       "      <th>value</th>\n",
       "      <th>category</th>\n",
       "    </tr>\n",
       "  </thead>\n",
       "  <tbody>\n",
       "    <tr>\n",
       "      <th>0</th>\n",
       "      <td>Australia</td>\n",
       "      <td>2014</td>\n",
       "      <td>393126.946994</td>\n",
       "      <td>carbon_dioxide_co2_emissions_without_land_use_...</td>\n",
       "    </tr>\n",
       "    <tr>\n",
       "      <th>1</th>\n",
       "      <td>Australia</td>\n",
       "      <td>2013</td>\n",
       "      <td>396913.936530</td>\n",
       "      <td>carbon_dioxide_co2_emissions_without_land_use_...</td>\n",
       "    </tr>\n",
       "    <tr>\n",
       "      <th>2</th>\n",
       "      <td>Australia</td>\n",
       "      <td>2012</td>\n",
       "      <td>406462.847704</td>\n",
       "      <td>carbon_dioxide_co2_emissions_without_land_use_...</td>\n",
       "    </tr>\n",
       "    <tr>\n",
       "      <th>3</th>\n",
       "      <td>Australia</td>\n",
       "      <td>2011</td>\n",
       "      <td>403705.528314</td>\n",
       "      <td>carbon_dioxide_co2_emissions_without_land_use_...</td>\n",
       "    </tr>\n",
       "    <tr>\n",
       "      <th>4</th>\n",
       "      <td>Australia</td>\n",
       "      <td>2010</td>\n",
       "      <td>406200.993184</td>\n",
       "      <td>carbon_dioxide_co2_emissions_without_land_use_...</td>\n",
       "    </tr>\n",
       "    <tr>\n",
       "      <th>5</th>\n",
       "      <td>Australia</td>\n",
       "      <td>2009</td>\n",
       "      <td>408448.479000</td>\n",
       "      <td>carbon_dioxide_co2_emissions_without_land_use_...</td>\n",
       "    </tr>\n",
       "    <tr>\n",
       "      <th>6</th>\n",
       "      <td>Australia</td>\n",
       "      <td>2008</td>\n",
       "      <td>404237.828214</td>\n",
       "      <td>carbon_dioxide_co2_emissions_without_land_use_...</td>\n",
       "    </tr>\n",
       "    <tr>\n",
       "      <th>7</th>\n",
       "      <td>Australia</td>\n",
       "      <td>2007</td>\n",
       "      <td>398816.453544</td>\n",
       "      <td>carbon_dioxide_co2_emissions_without_land_use_...</td>\n",
       "    </tr>\n",
       "    <tr>\n",
       "      <th>8</th>\n",
       "      <td>Australia</td>\n",
       "      <td>2006</td>\n",
       "      <td>391134.100909</td>\n",
       "      <td>carbon_dioxide_co2_emissions_without_land_use_...</td>\n",
       "    </tr>\n",
       "    <tr>\n",
       "      <th>9</th>\n",
       "      <td>Australia</td>\n",
       "      <td>2005</td>\n",
       "      <td>385581.132806</td>\n",
       "      <td>carbon_dioxide_co2_emissions_without_land_use_...</td>\n",
       "    </tr>\n",
       "  </tbody>\n",
       "</table>\n",
       "</div>"
      ],
      "text/plain": [
       "  country_or_area  year          value  \\\n",
       "0       Australia  2014  393126.946994   \n",
       "1       Australia  2013  396913.936530   \n",
       "2       Australia  2012  406462.847704   \n",
       "3       Australia  2011  403705.528314   \n",
       "4       Australia  2010  406200.993184   \n",
       "5       Australia  2009  408448.479000   \n",
       "6       Australia  2008  404237.828214   \n",
       "7       Australia  2007  398816.453544   \n",
       "8       Australia  2006  391134.100909   \n",
       "9       Australia  2005  385581.132806   \n",
       "\n",
       "                                            category  \n",
       "0  carbon_dioxide_co2_emissions_without_land_use_...  \n",
       "1  carbon_dioxide_co2_emissions_without_land_use_...  \n",
       "2  carbon_dioxide_co2_emissions_without_land_use_...  \n",
       "3  carbon_dioxide_co2_emissions_without_land_use_...  \n",
       "4  carbon_dioxide_co2_emissions_without_land_use_...  \n",
       "5  carbon_dioxide_co2_emissions_without_land_use_...  \n",
       "6  carbon_dioxide_co2_emissions_without_land_use_...  \n",
       "7  carbon_dioxide_co2_emissions_without_land_use_...  \n",
       "8  carbon_dioxide_co2_emissions_without_land_use_...  \n",
       "9  carbon_dioxide_co2_emissions_without_land_use_...  "
      ]
     },
     "execution_count": 56,
     "metadata": {},
     "output_type": "execute_result"
    }
   ],
   "source": [
    "historicalGHGs = pd.read_csv(\"GreenhouseGasInventoryData/greenhouse_gas_inventory_data.csv\")\n",
    "historicalGHGs.head(10)"
   ]
  },
  {
   "cell_type": "markdown",
   "id": "98808693",
   "metadata": {},
   "source": [
    "# Cleaning up Historical Global GHGs Emission Data\n",
    "Here I clean up the GHG emission data to remove 2014 entries (since the temperature data only goes until 2013) and to clean up the categorical labels for easier analysis"
   ]
  },
  {
   "cell_type": "code",
   "execution_count": 103,
   "id": "cb62e842",
   "metadata": {
    "scrolled": true
   },
   "outputs": [],
   "source": [
    "# remove 2014 entries\n",
    "historicalGHGs = historicalGHGs[historicalGHGs['year'] < 2014]\n",
    "historicalGHGs.head(10)\n",
    "\n",
    "# Shorten Catgory Names\n",
    "historicalGHGs['category'].replace(\n",
    "    {'carbon_dioxide_co2_emissions_without_land_use_land_use_change_and_forestry_lulucf_in_kilotonne_co2_equivalent':'CO2',\n",
    "    'greenhouse_gas_ghgs_emissions_without_land_use_land_use_change_and_forestry_lulucf_in_kilotonne_co2_equivalent':'GHG',\n",
    "    'greenhouse_gas_ghgs_emissions_including_indirect_co2_without_lulucf_in_kilotonne_co2_equivalent':'GHG-Indirect-CO2',\n",
    "    'hydrofluorocarbons_hfcs_emissions_in_kilotonne_co2_equivalent':'HFC',\n",
    "    'methane_ch4_emissions_without_land_use_land_use_change_and_forestry_lulucf_in_kilotonne_co2_equivalent':'CH4',\n",
    "    'nitrogen_trifluoride_nf3_emissions_in_kilotonne_co2_equivalent':'NF3',\n",
    "    'nitrous_oxide_n2o_emissions_without_land_use_land_use_change_and_forestry_lulucf_in_kilotonne_co2_equivalent':'N2O',\n",
    "    'perfluorocarbons_pfcs_emissions_in_kilotonne_co2_equivalent':'PFCs',\n",
    "    'sulphur_hexafluoride_sf6_emissions_in_kilotonne_co2_equivalent':'SF6',\n",
    "    'unspecified_mix_of_hydrofluorocarbons_hfcs_and_perfluorocarbons_pfcs_emissions_in_kilotonne_co2_equivalent':'HFC-PFC-mix'\n",
    "    }, \n",
    "    \n",
    "    inplace = True)"
   ]
  },
  {
   "cell_type": "markdown",
   "id": "f67d90aa",
   "metadata": {},
   "source": [
    "## Investingating the \"Category\" Variable"
   ]
  },
  {
   "cell_type": "code",
   "execution_count": 106,
   "id": "452d1209",
   "metadata": {
    "scrolled": false
   },
   "outputs": [
    {
     "name": "stdout",
     "output_type": "stream",
     "text": [
      "['C02' 'GHG-Indirect-CO2' 'GHG' 'HFC' 'CH4' 'NF3' 'N20' 'PFCs' 'SF6'\n",
      " 'HFC-PFC-mix']\n"
     ]
    },
    {
     "data": {
      "image/png": "[encoded data removed]",
      "text/plain": [
       "<Figure size 432x288 with 1 Axes>"
      ]
     },
     "metadata": {},
     "output_type": "display_data"
    }
   ],
   "source": [
    "# plot number of occurences of each category in the dataframe\n",
    "countPlot = sns.countplot(x=\"category\", palette = \"ch:.25\", data = historicalGHGs)\n",
    "countPlot.set_xticklabels(countPlot.get_xticklabels(), rotation=90)\n",
    "countPlot.set_title(\"Number of occurences of each category\")\n",
    "\n",
    "# print the different categorical labels\n",
    "print(historicalGHGs['category'].unique())"
   ]
  },
  {
   "cell_type": "code",
   "execution_count": 105,
   "id": "735e838a",
   "metadata": {},
   "outputs": [
    {
     "data": {
      "text/plain": [
       "Text(0, 0.5, 'Kilotons CO2 Equivalent')"
      ]
     },
     "execution_count": 105,
     "metadata": {},
     "output_type": "execute_result"
    },
    {
     "data": {
      "image/png": "[encoded data removed]",
      "text/plain": [
       "<Figure size 432x288 with 1 Axes>"
      ]
     },
     "metadata": {},
     "output_type": "display_data"
    }
   ],
   "source": [
    "# plot the distribution of emission values for each categorical label \n",
    "boxPlot = sns.boxplot(x='category', y = 'value', data = historicalGHGs)\n",
    "boxPlot.set_xticklabels(countPlot.get_xticklabels(), rotation=90)\n",
    "boxPlot.set_yscale(\"log\")\n",
    "boxPlot.set_title(\"Distribution of emissions (kilotons CO2 equivalent) by each category of emission\")\n",
    "boxPlot.set_ylabel(\"Kilotons CO2 Equivalent\")"
   ]
  }
 ],
 "metadata": {
  "kernelspec": {
   "display_name": "Python 3",
   "language": "python",
   "name": "python3"
  },
  "language_info": {
   "codemirror_mode": {
    "name": "ipython",
    "version": 3
   },
   "file_extension": ".py",
   "mimetype": "text/x-python",
   "name": "python",
   "nbconvert_exporter": "python",
   "pygments_lexer": "ipython3",
   "version": "3.8.8"
  }
 },
 "nbformat": 4,
 "nbformat_minor": 5
}
